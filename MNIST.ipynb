{
  "cells": [
    {
      "cell_type": "markdown",
      "metadata": {
        "id": "view-in-github",
        "colab_type": "text"
      },
      "source": [
        "<a href=\"https://colab.research.google.com/github/Viaxiz/Machine-Learning-Study/blob/main/MNIST.ipynb\" target=\"_parent\"><img src=\"https://colab.research.google.com/assets/colab-badge.svg\" alt=\"Open In Colab\"/></a>"
      ]
    },
    {
      "cell_type": "code",
      "execution_count": 5,
      "metadata": {
        "id": "gbJxT2mWokZU"
      },
      "outputs": [],
      "source": [
        "# 导入相关包\n",
        "import torch\n",
        "import torchvision \n",
        "from tqdm import tqdm\n",
        "import matplotlib.pyplot as plt"
      ]
    },
    {
      "cell_type": "code",
      "execution_count": 6,
      "metadata": {
        "colab": {
          "base_uri": "https://localhost:8080/"
        },
        "id": "ci-5SLJPpq9Z",
        "outputId": "66a3435e-681d-4459-ec2f-317424dc170f"
      },
      "outputs": [
        {
          "output_type": "stream",
          "name": "stdout",
          "text": [
            "1.13.1+cu116\n",
            "False\n"
          ]
        }
      ],
      "source": [
        "# 查看pytorch版本和gpu是否可用\n",
        "print(torch.__version__)\n",
        "print(torch.cuda.is_available())"
      ]
    },
    {
      "cell_type": "code",
      "execution_count": 7,
      "metadata": {
        "id": "JVlbrkYQpw3s"
      },
      "outputs": [],
      "source": [
        "# 如果网络能在GPU中训练，就使用GPU；否则使用CPU进行训练\n",
        "device = \"cuda:0\" if torch.cuda.is_available() else \"cpu\"\n",
        "\n",
        "# 这个函数包括了两个操作：将图片转换为张量，以及将图片进行归一化处理\n",
        "transform = torchvision.transforms.Compose([torchvision.transforms.ToTensor(),\n",
        "                                torchvision.transforms.Normalize(mean = [0.5],std = [0.5])])\n",
        "# 上面这句看到另一种写法，没测试过\n",
        "# transform = transforms.Compose([transforms.ToTensor(),transforms.Normalize(mean=[0.5,0.5,0.5],std=[0.5,0.5,0.5])])\n",
        "\n",
        "                                \n",
        "# 设置了每个包中的图片数据个数\n",
        "BATCH_SIZE = 64\n",
        "EPOCHS = 10"
      ]
    },
    {
      "cell_type": "code",
      "execution_count": 8,
      "metadata": {
        "id": "CSd0Sshnqk7b"
      },
      "outputs": [],
      "source": [
        "from torchvision import datasets, transforms"
      ]
    },
    {
      "cell_type": "code",
      "execution_count": 9,
      "metadata": {
        "id": "FPJC07Qgp2NL",
        "colab": {
          "base_uri": "https://localhost:8080/",
          "height": 431,
          "referenced_widgets": [
            "b9e896e7172e45ca85ffec21f770b559",
            "cd2e703941d241408663d5b886cca8f8",
            "037d913f8d4e44248ae66af30ef6cc24",
            "603da0f5300946c2aa97024de4c73324",
            "5715082776ce4ae094b21c69ae7c36cd",
            "eac1e8ab9081446f939a23f2b84093ca",
            "977612ed37a746e1ae8a88e86d14bc94",
            "6970d84a9d1f40a0a90e7ad0f931565c",
            "336554ea55694b53b63c1eb729d67e75",
            "5ca4620f21c04fba9bc43b06adebfa44",
            "447818f700594e60b55603bb37860026",
            "3c5b220516e647cea3f20ff061c45d51",
            "e7cc590d62f14787917cf67c4f4b7963",
            "17ba6e9388d44458a6f34d1b194be631",
            "e397b0a54bbf43e588071dd95341c995",
            "c05fb78c90204c67b99a2793c0f6bd45",
            "e48701fa4300406b85daa86fe7b57ff9",
            "5b09f3d487a048db93ec2edbd71fa545",
            "0fdcf5fa6d4e4768b335703e7c761f34",
            "7958c7bea256474fbb77f493c3ce2e62",
            "f346115fea424267b95364dc4ace3b18",
            "0f1cffcb4c1d488ba594882b210fd013",
            "9b96bf723ee649d392c3b28539d9270c",
            "43a1cb3c6b2e478c95c0d4acb7d60732",
            "ca2156ced8264f2999360770df385d50",
            "ef1e014aa0b046569612f6e8b1fc6510",
            "4898fab4635a4cdab93abf590d708e99",
            "1834d34a99bd4c2f9a0e3a0299cd2c10",
            "44f1489c25f94e87be3b53ffd69e1236",
            "5387aef834614c1a9de00864db2cb423",
            "cf138c4b36e6435eabd52e849d222c9d",
            "d6fc51d8bd564a138fd85d143deff179",
            "99c755e90ad84a4e840b917735c7c9e6",
            "f89bd30deef34f75b16a577fd5c6cc39",
            "155adc9ce4fc497c964e90e15e2ba1eb",
            "ac14c4b5ece9432984796b52eedc7dcd",
            "d1a2f54ee5b44f5794ba574b03dbcec1",
            "3e6b85ba8aa945459b62a0a69079ecb3",
            "11d8fb2c328940e6a6372a263dd76b60",
            "3f065ec484534f23b90a806a0ffe028e",
            "3c805dbcdae74ccaaf006a4f2834d91a",
            "58055bcbdb2443c68bcd2046ffa4953a",
            "6889de0f91d546baacf26600460347ef",
            "6df7a85f1b04481caced268afa066ca5"
          ]
        },
        "outputId": "01096336-9ffd-47c3-eb77-eb89e49c35cb"
      },
      "outputs": [
        {
          "output_type": "stream",
          "name": "stdout",
          "text": [
            "Downloading http://yann.lecun.com/exdb/mnist/train-images-idx3-ubyte.gz\n",
            "Downloading http://yann.lecun.com/exdb/mnist/train-images-idx3-ubyte.gz to ./data/MNIST/raw/train-images-idx3-ubyte.gz\n"
          ]
        },
        {
          "output_type": "display_data",
          "data": {
            "text/plain": [
              "  0%|          | 0/9912422 [00:00<?, ?it/s]"
            ],
            "application/vnd.jupyter.widget-view+json": {
              "version_major": 2,
              "version_minor": 0,
              "model_id": "b9e896e7172e45ca85ffec21f770b559"
            }
          },
          "metadata": {}
        },
        {
          "output_type": "stream",
          "name": "stdout",
          "text": [
            "Extracting ./data/MNIST/raw/train-images-idx3-ubyte.gz to ./data/MNIST/raw\n",
            "\n",
            "Downloading http://yann.lecun.com/exdb/mnist/train-labels-idx1-ubyte.gz\n",
            "Downloading http://yann.lecun.com/exdb/mnist/train-labels-idx1-ubyte.gz to ./data/MNIST/raw/train-labels-idx1-ubyte.gz\n"
          ]
        },
        {
          "output_type": "display_data",
          "data": {
            "text/plain": [
              "  0%|          | 0/28881 [00:00<?, ?it/s]"
            ],
            "application/vnd.jupyter.widget-view+json": {
              "version_major": 2,
              "version_minor": 0,
              "model_id": "3c5b220516e647cea3f20ff061c45d51"
            }
          },
          "metadata": {}
        },
        {
          "output_type": "stream",
          "name": "stdout",
          "text": [
            "Extracting ./data/MNIST/raw/train-labels-idx1-ubyte.gz to ./data/MNIST/raw\n",
            "\n",
            "Downloading http://yann.lecun.com/exdb/mnist/t10k-images-idx3-ubyte.gz\n",
            "Downloading http://yann.lecun.com/exdb/mnist/t10k-images-idx3-ubyte.gz to ./data/MNIST/raw/t10k-images-idx3-ubyte.gz\n"
          ]
        },
        {
          "output_type": "display_data",
          "data": {
            "text/plain": [
              "  0%|          | 0/1648877 [00:00<?, ?it/s]"
            ],
            "application/vnd.jupyter.widget-view+json": {
              "version_major": 2,
              "version_minor": 0,
              "model_id": "9b96bf723ee649d392c3b28539d9270c"
            }
          },
          "metadata": {}
        },
        {
          "output_type": "stream",
          "name": "stdout",
          "text": [
            "Extracting ./data/MNIST/raw/t10k-images-idx3-ubyte.gz to ./data/MNIST/raw\n",
            "\n",
            "Downloading http://yann.lecun.com/exdb/mnist/t10k-labels-idx1-ubyte.gz\n",
            "Downloading http://yann.lecun.com/exdb/mnist/t10k-labels-idx1-ubyte.gz to ./data/MNIST/raw/t10k-labels-idx1-ubyte.gz\n"
          ]
        },
        {
          "output_type": "display_data",
          "data": {
            "text/plain": [
              "  0%|          | 0/4542 [00:00<?, ?it/s]"
            ],
            "application/vnd.jupyter.widget-view+json": {
              "version_major": 2,
              "version_minor": 0,
              "model_id": "f89bd30deef34f75b16a577fd5c6cc39"
            }
          },
          "metadata": {}
        },
        {
          "output_type": "stream",
          "name": "stdout",
          "text": [
            "Extracting ./data/MNIST/raw/t10k-labels-idx1-ubyte.gz to ./data/MNIST/raw\n",
            "\n"
          ]
        }
      ],
      "source": [
        "data_train = datasets.MNIST(root = \"./data/\",\n",
        "                            transform=transform,\n",
        "                            train = True,\n",
        "                            download = True)\n",
        "# root 指代文件保存位置\n",
        "data_test = datasets.MNIST(root=\"./data/\",\n",
        "                           transform = transform,\n",
        "                           train = False)"
      ]
    },
    {
      "cell_type": "code",
      "execution_count": 10,
      "metadata": {
        "id": "AJ-1oSm3p2V_"
      },
      "outputs": [],
      "source": [
        "# 建立一个数据迭代器\n",
        "# 装载训练集\n",
        "train_loader = torch.utils.data.DataLoader(dataset=data_train,\n",
        "                                           batch_size=BATCH_SIZE,\n",
        "                                           shuffle=True)\n",
        "# 装载测试集\n",
        "test_loader = torch.utils.data.DataLoader(dataset=data_test,\n",
        "                                          batch_size=BATCH_SIZE,\n",
        "                                          shuffle=True)\n",
        "# batch_size设置了每批装载的数据图片为64个，shuffle设置为True在装载过程中为随机乱序"
      ]
    },
    {
      "cell_type": "code",
      "execution_count": 11,
      "metadata": {
        "colab": {
          "base_uri": "https://localhost:8080/"
        },
        "id": "IOwfgXVMy4cN",
        "outputId": "e753ad0e-a042-45e6-9592-e91272b8e3f5"
      },
      "outputs": [
        {
          "output_type": "stream",
          "name": "stdout",
          "text": [
            "60000 10000\n"
          ]
        }
      ],
      "source": [
        "# 看下训练集和测试集大小：数据集包含 60,000个训练集图像以及10,000个测试集图像。PS:数据集中每张图像的大小固定（28x28像素），上面的数字都经过了尺寸标准化及居中处理，数字范围从0到9，共10个模式\n",
        "print(len(data_train),len(data_test))"
      ]
    },
    {
      "cell_type": "code",
      "execution_count": 12,
      "metadata": {
        "colab": {
          "base_uri": "https://localhost:8080/",
          "height": 325
        },
        "id": "t10S9p0GzYxF",
        "outputId": "1f880a16-983f-4e6d-c55f-9a58770de3a3"
      },
      "outputs": [
        {
          "output_type": "stream",
          "name": "stdout",
          "text": [
            "[tensor(2), tensor(0), tensor(0), tensor(5), tensor(6), tensor(1), tensor(6), tensor(4), tensor(4), tensor(8), tensor(8), tensor(6), tensor(8), tensor(9), tensor(9), tensor(7), tensor(7), tensor(8), tensor(3), tensor(4), tensor(7), tensor(7), tensor(6), tensor(5), tensor(1), tensor(1), tensor(9), tensor(7), tensor(4), tensor(0), tensor(6), tensor(1), tensor(6), tensor(7), tensor(1), tensor(8), tensor(6), tensor(8), tensor(0), tensor(0), tensor(7), tensor(0), tensor(4), tensor(4), tensor(7), tensor(2), tensor(5), tensor(1), tensor(6), tensor(6), tensor(9), tensor(0), tensor(3), tensor(1), tensor(8), tensor(4), tensor(7), tensor(5), tensor(4), tensor(1), tensor(9), tensor(6), tensor(8), tensor(7)]\n"
          ]
        },
        {
          "output_type": "execute_result",
          "data": {
            "text/plain": [
              "<matplotlib.image.AxesImage at 0x7fcc6f84d5e0>"
            ]
          },
          "metadata": {},
          "execution_count": 12
        },
        {
          "output_type": "display_data",
          "data": {
            "text/plain": [
              "<Figure size 432x288 with 1 Axes>"
            ],
            "image/png": "[encoded data removed]"
          },
          "metadata": {
            "needs_background": "light"
          }
        }
      ],
      "source": [
        "images, labels = next(iter(train_loader))\n",
        "img = torchvision.utils.make_grid(images)\n",
        "\n",
        "img = img.numpy().transpose(1,2,0)\n",
        "std = [0.5,0.5,0.5]\n",
        "mean = [0.5,0.5,0.5]\n",
        "img = img*std+mean\n",
        "print([labels[i] for i in range(64)])\n",
        "plt.imshow(img)"
      ]
    },
    {
      "cell_type": "markdown",
      "metadata": {
        "id": "L23X9aaLrlez"
      },
      "source": [
        "# 下面构建数据训练模型并创建实例\n",
        "参考：\n",
        "[1]https://github.com/JaimeTang/PyTorch-and-mnist/blob/master/pytorch-and-mnist.ipynb\n",
        "\n",
        "[2]https://zhuanlan.zhihu.com/p/30249139"
      ]
    },
    {
      "cell_type": "code",
      "execution_count": null,
      "metadata": {
        "id": "_eXFORJsrd7V"
      },
      "outputs": [],
      "source": [
        "class Model(torch.nn.Module):\n",
        "    \n",
        "    def __init__(self):\n",
        "        super(Model, self).__init__()\n",
        "        self.conv1 = torch.nn.Sequential(torch.nn.Conv2d(1,64,kernel_size=3,stride=1,padding=1),\n",
        "                                         torch.nn.ReLU(),\n",
        "                                         torch.nn.Conv2d(64,128,kernel_size=3,stride=1,padding=1),\n",
        "                                         torch.nn.ReLU(),\n",
        "                                         torch.nn.MaxPool2d(stride=2,kernel_size=2))\n",
        "        self.dense = torch.nn.Sequential(torch.nn.Linear(14*14*128,1024),\n",
        "                                         torch.nn.ReLU(),\n",
        "                                         torch.nn.Dropout(p=0.5),\n",
        "                                         torch.nn.Linear(1024, 10))\n",
        "    def forward(self, x):\n",
        "        x = self.conv1(x)\n",
        "        x = x.view(-1, 14*14*128)\n",
        "        x = self.dense(x)\n",
        "        return x\n",
        "\n",
        "# 完成数据装载后就可以构建核心程序了，这里构建的是一个包含了卷积层和全连接层的神经网络，其中卷积层使用torch.nn.Conv2d来构建，\n",
        "# 激活层使用torch.nn.ReLU来构建，池化层使用torch.nn.MaxPool2d来构建，全连接层使用torch.nn.Linear来构建\n",
        "\n",
        "# 其中定义了torch.nn.Dropout(p=0.5)防止模型的过拟合\n",
        "\n",
        "# forward函数定义了前向传播，其实就是正常卷积路径。首先经过self.conv1(x)卷积处理，然后进行x.view(-1, 14*14*128)压缩扁平化处理，最后通过self.dense(x)全连接进行分类\n",
        "\n"
      ]
    },
    {
      "cell_type": "code",
      "execution_count": null,
      "metadata": {
        "colab": {
          "base_uri": "https://localhost:8080/"
        },
        "id": "2LGDnfdNs0tM",
        "outputId": "5726089d-0559-447b-bbfe-73927895dfc3"
      },
      "outputs": [
        {
          "name": "stdout",
          "output_type": "stream",
          "text": [
            "Model(\n",
            "  (conv1): Sequential(\n",
            "    (0): Conv2d(1, 64, kernel_size=(3, 3), stride=(1, 1), padding=(1, 1))\n",
            "    (1): ReLU()\n",
            "    (2): Conv2d(64, 128, kernel_size=(3, 3), stride=(1, 1), padding=(1, 1))\n",
            "    (3): ReLU()\n",
            "    (4): MaxPool2d(kernel_size=2, stride=2, padding=0, dilation=1, ceil_mode=False)\n",
            "  )\n",
            "  (dense): Sequential(\n",
            "    (0): Linear(in_features=25088, out_features=1024, bias=True)\n",
            "    (1): ReLU()\n",
            "    (2): Dropout(p=0.5, inplace=False)\n",
            "    (3): Linear(in_features=1024, out_features=10, bias=True)\n",
            "  )\n",
            ")\n"
          ]
        }
      ],
      "source": [
        "# 在训练前可以查看神经网络架构了，print输出显示如下\n",
        "print(Model())"
      ]
    },
    {
      "cell_type": "markdown",
      "metadata": {
        "id": "VwR2IAxb2HzF"
      },
      "source": [
        "模型训练过程"
      ]
    },
    {
      "cell_type": "code",
      "execution_count": null,
      "metadata": {
        "id": "y2j-5vCkryzD"
      },
      "outputs": [],
      "source": [
        "# 对Model对象进行调用，然后定义loss计算使用交叉熵，优化计算使用Adam自动化方式，最后就可以开始训练了\n",
        "model = Model()\n",
        "cost = torch.nn.CrossEntropyLoss()\n",
        "optimizer = torch.optim.Adam(model.parameters())\n",
        "# 定义训练次数为5次\n",
        "n_epochs = 5\n",
        "# \n",
        "# model.load_state_dict(torch.load('model_parameter.pkl'))"
      ]
    },
    {
      "cell_type": "code",
      "execution_count": null,
      "metadata": {
        "id": "yIcAVO5A3BLC"
      },
      "outputs": [],
      "source": [
        "# 忘了导入这步\n",
        "from torch.autograd import Variable"
      ]
    },
    {
      "cell_type": "code",
      "execution_count": null,
      "metadata": {
        "colab": {
          "background_save": true,
          "base_uri": "https://localhost:8080/"
        },
        "id": "DjQfDdIw1tlH",
        "outputId": "5eecaf12-402b-4b90-aeee-367990f77244"
      },
      "outputs": [
        {
          "name": "stdout",
          "output_type": "stream",
          "text": [
            "Epoch 0/5\n",
            "----------\n",
            "Loss is:0.0020, Train Accuracy is:96.1850%, Test Accuracy is:98.1700\n",
            "Epoch 1/5\n",
            "----------\n",
            "Loss is:0.0007, Train Accuracy is:98.6133%, Test Accuracy is:98.6700\n",
            "Epoch 2/5\n",
            "----------\n",
            "Loss is:0.0005, Train Accuracy is:99.0400%, Test Accuracy is:98.7500\n",
            "Epoch 3/5\n",
            "----------\n",
            "Loss is:0.0003, Train Accuracy is:99.3633%, Test Accuracy is:98.6400\n",
            "Epoch 4/5\n",
            "----------\n",
            "Loss is:0.0003, Train Accuracy is:99.4517%, Test Accuracy is:98.4700\n"
          ]
        }
      ],
      "source": [
        "for epoch in range(n_epochs):\n",
        "    running_loss = 0.0\n",
        "    running_correct = 0\n",
        "    print(\"Epoch {}/{}\".format(epoch, n_epochs))\n",
        "    print(\"-\"*10)\n",
        "    for data in train_loader:\n",
        "        X_train, y_train = data\n",
        "        X_train, y_train = Variable(X_train), Variable(y_train)\n",
        "        outputs = model(X_train)\n",
        "        _,pred = torch.max(outputs.data, 1)\n",
        "        optimizer.zero_grad()\n",
        "        loss = cost(outputs, y_train)\n",
        "        \n",
        "        loss.backward()\n",
        "        optimizer.step()\n",
        "        running_loss += loss.item()\n",
        "        running_correct += torch.sum(pred == y_train.data)\n",
        "    testing_correct = 0\n",
        "    for data in test_loader:\n",
        "        X_test, y_test = data\n",
        "        X_test, y_test = Variable(X_test), Variable(y_test)\n",
        "        outputs = model(X_test)\n",
        "        _, pred = torch.max(outputs.data, 1)\n",
        "        testing_correct += torch.sum(pred == y_test.data)\n",
        "    print(\"Loss is:{:.4f}, Train Accuracy is:{:.4f}%, Test Accuracy is:{:.4f}\".format(running_loss/len(data_train),\n",
        "                                                                                      100*running_correct/len(data_train),\n",
        "                                                                                      100*testing_correct/len(data_test)))\n",
        "# 训练完成后还可以保存训练得到的参数，方便下次导入后可供直接使用\n",
        "torch.save(model.state_dict(), \"model_parameter.pkl\")"
      ]
    },
    {
      "cell_type": "code",
      "execution_count": 19,
      "metadata": {
        "colab": {
          "base_uri": "https://localhost:8080/",
          "height": 192
        },
        "id": "5_vfW3dvGltq",
        "outputId": "42ab03a5-f4ff-4aa1-cf92-2437bb3270a7"
      },
      "outputs": [
        {
          "output_type": "stream",
          "name": "stdout",
          "text": [
            "Predict Label is: [tensor(0), tensor(3), tensor(8), tensor(1)]\n",
            "Real Label is: [tensor(0), tensor(3), tensor(8), tensor(1)]\n"
          ]
        },
        {
          "output_type": "execute_result",
          "data": {
            "text/plain": [
              "<matplotlib.image.AxesImage at 0x7f3b24742df0>"
            ]
          },
          "metadata": {},
          "execution_count": 19
        },
        {
          "output_type": "display_data",
          "data": {
            "text/plain": [
              "<Figure size 432x288 with 1 Axes>"
            ],
            "image/png": "[encoded data removed]"
          },
          "metadata": {
            "needs_background": "light"
          }
        }
      ],
      "source": [
        "# 预测的代码，随机对几张测试集的图片进行预测，并做可视化展示\n",
        "data_loader_test = torch.utils.data.DataLoader(dataset=data_test,\n",
        "                                          batch_size = 4,\n",
        "                                          shuffle = True)\n",
        "X_test, y_test = next(iter(data_loader_test))\n",
        "inputs = Variable(X_test)\n",
        "pred = model(inputs)\n",
        "_,pred = torch.max(pred, 1)\n",
        "\n",
        "print(\"Predict Label is:\", [ i for i in pred.data])\n",
        "print(\"Real Label is:\",[i for i in y_test])\n",
        "\n",
        "img = torchvision.utils.make_grid(X_test)\n",
        "img = img.numpy().transpose(1,2,0)\n",
        "\n",
        "std = [0.5,0.5,0.5]\n",
        "mean = [0.5,0.5,0.5]\n",
        "img = img*std+mean\n",
        "plt.imshow(img)"
      ]
    },
    {
      "cell_type": "markdown",
      "metadata": {
        "id": "fEGhUrgCMpvC"
      },
      "source": [
        "# 另外一种写法\n",
        "参考：[1]https://matpool.com/learn/article/pytorch-mnist-train-on-matpool"
      ]
    },
    {
      "cell_type": "markdown",
      "metadata": {
        "id": "flSUR4abNcJN"
      },
      "source": [
        "构建数据模型并创建实例"
      ]
    },
    {
      "cell_type": "code",
      "execution_count": 13,
      "metadata": {
        "id": "yIZb7ns9NN5t"
      },
      "outputs": [],
      "source": [
        "# 一个简单的卷积神经网络\n",
        "class Net(torch.nn.Module):\n",
        "    def __init__(self):\n",
        "        super(Net,self).__init__()\n",
        "        self.model = torch.nn.Sequential(\n",
        "            #The size of the picture is 28x28\n",
        "            torch.nn.Conv2d(in_channels = 1,out_channels = 16,kernel_size = 3,stride = 1,padding = 1),\n",
        "            torch.nn.ReLU(),\n",
        "            torch.nn.MaxPool2d(kernel_size = 2,stride = 2),\n",
        "            \n",
        "            #The size of the picture is 14x14\n",
        "            torch.nn.Conv2d(in_channels = 16,out_channels = 32,kernel_size = 3,stride = 1,padding = 1),\n",
        "            torch.nn.ReLU(),\n",
        "            torch.nn.MaxPool2d(kernel_size = 2,stride = 2),\n",
        "            \n",
        "            #The size of the picture is 7x7\n",
        "            torch.nn.Conv2d(in_channels = 32,out_channels = 64,kernel_size = 3,stride = 1,padding = 1),\n",
        "            torch.nn.ReLU(),\n",
        "            \n",
        "            torch.nn.Flatten(),\n",
        "            torch.nn.Linear(in_features = 7 * 7 * 64,out_features = 128),\n",
        "            torch.nn.ReLU(),\n",
        "            torch.nn.Linear(in_features = 128,out_features = 10),\n",
        "            torch.nn.Softmax(dim=1)\n",
        "        )\n",
        "        \n",
        "    def forward(self,input):\n",
        "        output = self.model(input)\n",
        "        return output"
      ]
    },
    {
      "cell_type": "code",
      "execution_count": 14,
      "metadata": {
        "colab": {
          "base_uri": "https://localhost:8080/"
        },
        "id": "AwayK6ppNjor",
        "outputId": "93ac358b-8973-4842-8ec6-5cc9dc6edfe6"
      },
      "outputs": [
        {
          "output_type": "stream",
          "name": "stdout",
          "text": [
            "Net(\n",
            "  (model): Sequential(\n",
            "    (0): Conv2d(1, 16, kernel_size=(3, 3), stride=(1, 1), padding=(1, 1))\n",
            "    (1): ReLU()\n",
            "    (2): MaxPool2d(kernel_size=2, stride=2, padding=0, dilation=1, ceil_mode=False)\n",
            "    (3): Conv2d(16, 32, kernel_size=(3, 3), stride=(1, 1), padding=(1, 1))\n",
            "    (4): ReLU()\n",
            "    (5): MaxPool2d(kernel_size=2, stride=2, padding=0, dilation=1, ceil_mode=False)\n",
            "    (6): Conv2d(32, 64, kernel_size=(3, 3), stride=(1, 1), padding=(1, 1))\n",
            "    (7): ReLU()\n",
            "    (8): Flatten(start_dim=1, end_dim=-1)\n",
            "    (9): Linear(in_features=3136, out_features=128, bias=True)\n",
            "    (10): ReLU()\n",
            "    (11): Linear(in_features=128, out_features=10, bias=True)\n",
            "    (12): Softmax(dim=1)\n",
            "  )\n",
            ")\n"
          ]
        }
      ],
      "source": [
        "# 打印模型\n",
        "print(Net())\n"
      ]
    },
    {
      "cell_type": "code",
      "execution_count": 15,
      "metadata": {
        "colab": {
          "base_uri": "https://localhost:8080/"
        },
        "id": "mKIcXqu4N6qJ",
        "outputId": "c0685ce0-9674-49ad-cbb6-6330cbada48c"
      },
      "outputs": [
        {
          "output_type": "stream",
          "name": "stdout",
          "text": [
            "Net(\n",
            "  (model): Sequential(\n",
            "    (0): Conv2d(1, 16, kernel_size=(3, 3), stride=(1, 1), padding=(1, 1))\n",
            "    (1): ReLU()\n",
            "    (2): MaxPool2d(kernel_size=2, stride=2, padding=0, dilation=1, ceil_mode=False)\n",
            "    (3): Conv2d(16, 32, kernel_size=(3, 3), stride=(1, 1), padding=(1, 1))\n",
            "    (4): ReLU()\n",
            "    (5): MaxPool2d(kernel_size=2, stride=2, padding=0, dilation=1, ceil_mode=False)\n",
            "    (6): Conv2d(32, 64, kernel_size=(3, 3), stride=(1, 1), padding=(1, 1))\n",
            "    (7): ReLU()\n",
            "    (8): Flatten(start_dim=1, end_dim=-1)\n",
            "    (9): Linear(in_features=3136, out_features=128, bias=True)\n",
            "    (10): ReLU()\n",
            "    (11): Linear(in_features=128, out_features=10, bias=True)\n",
            "    (12): Softmax(dim=1)\n",
            "  )\n",
            ")\n"
          ]
        }
      ],
      "source": [
        "# 构建模型实例\n",
        "net = Net()\n",
        "# 将模型转换到device中，并将其结构显示出来\n",
        "print(net.to(device))"
      ]
    },
    {
      "cell_type": "markdown",
      "metadata": {
        "id": "8BsjETnhOQcy"
      },
      "source": [
        "构建迭代器与损失函数"
      ]
    },
    {
      "cell_type": "code",
      "execution_count": 16,
      "metadata": {
        "id": "bCUYn3ylOOuD"
      },
      "outputs": [],
      "source": [
        "# 交叉熵损失来作为损失函数\n",
        "# Adam迭代器\n",
        "loss_fun = torch.nn.CrossEntropyLoss() \n",
        "optimizer = torch.optim.Adam(net.parameters())"
      ]
    },
    {
      "cell_type": "code",
      "execution_count": 17,
      "metadata": {
        "colab": {
          "base_uri": "https://localhost:8080/"
        },
        "id": "Z4ma1MDOOjNp",
        "outputId": "5b1e4e84-140a-435f-a007-f68a56795e74"
      },
      "outputs": [
        {
          "output_type": "stream",
          "name": "stderr",
          "text": [
            "[1/10] Loss: 1.5237, Acc: 0.9688, Test Loss: 1.4954, Test Acc: 0.9632: 100%|██████████| 938/938 [01:13<00:00, 12.71step/s]\n",
            "[2/10] Loss: 1.5331, Acc: 0.9688, Test Loss: 1.4819, Test Acc: 0.9749: 100%|██████████| 938/938 [01:14<00:00, 12.57step/s]\n",
            "[3/10] Loss: 1.4612, Acc: 1.0000, Test Loss: 1.4786, Test Acc: 0.9780: 100%|██████████| 938/938 [01:14<00:00, 12.62step/s]\n",
            "[4/10] Loss: 1.4612, Acc: 0.9688, Test Loss: 1.4771, Test Acc: 0.9793: 100%|██████████| 938/938 [01:13<00:00, 12.72step/s]\n",
            "[5/10] Loss: 1.5236, Acc: 0.9688, Test Loss: 1.4743, Test Acc: 0.9826: 100%|██████████| 938/938 [01:20<00:00, 11.67step/s]\n",
            "[6/10] Loss: 1.5226, Acc: 0.9688, Test Loss: 1.4730, Test Acc: 0.9837: 100%|██████████| 938/938 [01:24<00:00, 11.13step/s]\n",
            "[7/10] Loss: 1.4612, Acc: 1.0000, Test Loss: 1.4724, Test Acc: 0.9838: 100%|██████████| 938/938 [01:34<00:00,  9.96step/s]\n",
            "[8/10] Loss: 1.4622, Acc: 0.9375, Test Loss: 1.4726, Test Acc: 0.9839: 100%|██████████| 938/938 [01:46<00:00,  8.79step/s]\n",
            "[9/10] Loss: 1.4612, Acc: 0.9375, Test Loss: 1.4720, Test Acc: 0.9843: 100%|██████████| 938/938 [01:58<00:00,  7.89step/s]\n",
            "[10/10] Loss: 1.4612, Acc: 0.9688, Test Loss: 1.4761, Test Acc: 0.9798: 100%|██████████| 938/938 [02:25<00:00,  6.44step/s]\n"
          ]
        }
      ],
      "source": [
        "# 构建并运行训练循环\n",
        "history = {'Test Loss':[],'Test Accuracy':[]}\n",
        "for epoch in range(1,EPOCHS + 1):\n",
        "    process_bar = tqdm(train_loader,unit = 'step')\n",
        "    net.train(True)\n",
        "    for step,(train_imgs,labels) in enumerate(process_bar):\n",
        "        train_imgs = train_imgs.to(device)\n",
        "        labels = labels.to(device)\n",
        "\n",
        "        net.zero_grad()\n",
        "        outputs = net(train_imgs)\n",
        "        loss = loss_fun(outputs,labels)\n",
        "        predictions = torch.argmax(outputs, dim = 1)\n",
        "        accuracy = torch.true_divide(torch.sum(predictions == labels), labels.shape[0])\n",
        "        loss.backward()\n",
        "\n",
        "        optimizer.step()\n",
        "        process_bar.set_description(\"[%d/%d] Loss: %.4f, Acc: %.4f\" % \n",
        "                                   (epoch,EPOCHS,loss.item(),accuracy.item()))\n",
        "        \n",
        "        if step == len(process_bar)-1:\n",
        "            correct,total_loss = 0,0\n",
        "            net.train(False)\n",
        "            with torch.no_grad():\n",
        "                for test_imgs,labels in test_loader:\n",
        "                    test_imgs = test_imgs.to(device)\n",
        "                    labels = labels.to(device)\n",
        "                    outputs = net(test_imgs)\n",
        "                    loss = loss_fun(outputs,labels)\n",
        "                    predictions = torch.argmax(outputs,dim = 1)\n",
        "\n",
        "                    total_loss += loss\n",
        "                    correct += torch.sum(predictions == labels)\n",
        "\n",
        "                test_accuracy = torch.true_divide(correct, (BATCH_SIZE * len(test_loader)))\n",
        "                test_loss = torch.true_divide(total_loss, len(test_loader))\n",
        "                history['Test Loss'].append(test_loss.item())\n",
        "                history['Test Accuracy'].append(test_accuracy.item())\n",
        "            \n",
        "            process_bar.set_description(\"[%d/%d] Loss: %.4f, Acc: %.4f, Test Loss: %.4f, Test Acc: %.4f\" % \n",
        "                                   (epoch,EPOCHS,loss.item(),accuracy.item(),test_loss.item(),test_accuracy.item()))\n",
        "    process_bar.close()"
      ]
    },
    {
      "cell_type": "code",
      "execution_count": 18,
      "metadata": {
        "colab": {
          "base_uri": "https://localhost:8080/",
          "height": 542
        },
        "id": "ijMj8bYgPqGY",
        "outputId": "8be0d9c6-2be9-414e-bea5-be3cdf4c40f0"
      },
      "outputs": [
        {
          "output_type": "display_data",
          "data": {
            "text/plain": [
              "<Figure size 432x288 with 1 Axes>"
            ],
            "image/png": "[encoded data removed]"
          },
          "metadata": {
            "needs_background": "light"
          }
        },
        {
          "output_type": "display_data",
          "data": {
            "text/plain": [
              "<Figure size 432x288 with 1 Axes>"
            ],
            "image/png": "[encoded data removed]"
          },
          "metadata": {
            "needs_background": "light"
          }
        }
      ],
      "source": [
        "#训练结果可视化\n",
        "#对测试Loss进行可视化\n",
        "plt.plot(history['Test Loss'],label = 'Test Loss')\n",
        "plt.legend(loc='best')\n",
        "plt.grid(True)\n",
        "plt.xlabel('Epoch')\n",
        "plt.ylabel('Loss')\n",
        "plt.show()\n",
        "\n",
        "#对测试准确率进行可视化\n",
        "plt.plot(history['Test Accuracy'],color = 'red',label = 'Test Accuracy')\n",
        "plt.legend(loc='best')\n",
        "plt.grid(True)\n",
        "plt.xlabel('Epoch')\n",
        "plt.ylabel('Accuracy')\n",
        "plt.show()"
      ]
    },
    {
      "cell_type": "code",
      "execution_count": 19,
      "metadata": {
        "id": "-K8Aq3JLhl-j"
      },
      "outputs": [],
      "source": [
        "# 保存训练好的模型\n",
        "torch.save(net,'torch_mnist_model.pth')"
      ]
    }
  ],
  "metadata": {
    "accelerator": "GPU",
    "colab": {
      "collapsed_sections": [
        "L23X9aaLrlez"
      ],
      "provenance": [],
      "authorship_tag": "ABX9TyNvnu0bq7905Jg48RdvcxYV",
      "include_colab_link": true
    },
    "gpuClass": "standard",
    "kernelspec": {
      "display_name": "Python 3",
      "name": "python3"
    },
    "language_info": {
      "name": "python"
    },
    "widgets": {
      "application/vnd.jupyter.widget-state+json": {
        "b9e896e7172e45ca85ffec21f770b559": {
          "model_module": "@jupyter-widgets/controls",
          "model_name": "HBoxModel",
          "model_module_version": "1.5.0",
          "state": {
            "_dom_classes": [],
            "_model_module": "@jupyter-widgets/controls",
            "_model_module_version": "1.5.0",
            "_model_name": "HBoxModel",
            "_view_count": null,
            "_view_module": "@jupyter-widgets/controls",
            "_view_module_version": "1.5.0",
            "_view_name": "HBoxView",
            "box_style": "",
            "children": [
              "IPY_MODEL_cd2e703941d241408663d5b886cca8f8",
              "IPY_MODEL_037d913f8d4e44248ae66af30ef6cc24",
              "IPY_MODEL_603da0f5300946c2aa97024de4c73324"
            ],
            "layout": "IPY_MODEL_5715082776ce4ae094b21c69ae7c36cd"
          }
        },
        "cd2e703941d241408663d5b886cca8f8": {
          "model_module": "@jupyter-widgets/controls",
          "model_name": "HTMLModel",
          "model_module_version": "1.5.0",
          "state": {
            "_dom_classes": [],
            "_model_module": "@jupyter-widgets/controls",
            "_model_module_version": "1.5.0",
            "_model_name": "HTMLModel",
            "_view_count": null,
            "_view_module": "@jupyter-widgets/controls",
            "_view_module_version": "1.5.0",
            "_view_name": "HTMLView",
            "description": "",
            "description_tooltip": null,
            "layout": "IPY_MODEL_eac1e8ab9081446f939a23f2b84093ca",
            "placeholder": "​",
            "style": "IPY_MODEL_977612ed37a746e1ae8a88e86d14bc94",
            "value": "100%"
          }
        },
        "037d913f8d4e44248ae66af30ef6cc24": {
          "model_module": "@jupyter-widgets/controls",
          "model_name": "FloatProgressModel",
          "model_module_version": "1.5.0",
          "state": {
            "_dom_classes": [],
            "_model_module": "@jupyter-widgets/controls",
            "_model_module_version": "1.5.0",
            "_model_name": "FloatProgressModel",
            "_view_count": null,
            "_view_module": "@jupyter-widgets/controls",
            "_view_module_version": "1.5.0",
            "_view_name": "ProgressView",
            "bar_style": "success",
            "description": "",
            "description_tooltip": null,
            "layout": "IPY_MODEL_6970d84a9d1f40a0a90e7ad0f931565c",
            "max": 9912422,
            "min": 0,
            "orientation": "horizontal",
            "style": "IPY_MODEL_336554ea55694b53b63c1eb729d67e75",
            "value": 9912422
          }
        },
        "603da0f5300946c2aa97024de4c73324": {
          "model_module": "@jupyter-widgets/controls",
          "model_name": "HTMLModel",
          "model_module_version": "1.5.0",
          "state": {
            "_dom_classes": [],
            "_model_module": "@jupyter-widgets/controls",
            "_model_module_version": "1.5.0",
            "_model_name": "HTMLModel",
            "_view_count": null,
            "_view_module": "@jupyter-widgets/controls",
            "_view_module_version": "1.5.0",
            "_view_name": "HTMLView",
            "description": "",
            "description_tooltip": null,
            "layout": "IPY_MODEL_5ca4620f21c04fba9bc43b06adebfa44",
            "placeholder": "​",
            "style": "IPY_MODEL_447818f700594e60b55603bb37860026",
            "value": " 9912422/9912422 [00:00&lt;00:00, 25882980.38it/s]"
          }
        },
        "5715082776ce4ae094b21c69ae7c36cd": {
          "model_module": "@jupyter-widgets/base",
          "model_name": "LayoutModel",
          "model_module_version": "1.2.0",
          "state": {
            "_model_module": "@jupyter-widgets/base",
            "_model_module_version": "1.2.0",
            "_model_name": "LayoutModel",
            "_view_count": null,
            "_view_module": "@jupyter-widgets/base",
            "_view_module_version": "1.2.0",
            "_view_name": "LayoutView",
            "align_content": null,
            "align_items": null,
            "align_self": null,
            "border": null,
            "bottom": null,
            "display": null,
            "flex": null,
            "flex_flow": null,
            "grid_area": null,
            "grid_auto_columns": null,
            "grid_auto_flow": null,
            "grid_auto_rows": null,
            "grid_column": null,
            "grid_gap": null,
            "grid_row": null,
            "grid_template_areas": null,
            "grid_template_columns": null,
            "grid_template_rows": null,
            "height": null,
            "justify_content": null,
            "justify_items": null,
            "left": null,
            "margin": null,
            "max_height": null,
            "max_width": null,
            "min_height": null,
            "min_width": null,
            "object_fit": null,
            "object_position": null,
            "order": null,
            "overflow": null,
            "overflow_x": null,
            "overflow_y": null,
            "padding": null,
            "right": null,
            "top": null,
            "visibility": null,
            "width": null
          }
        },
        "eac1e8ab9081446f939a23f2b84093ca": {
          "model_module": "@jupyter-widgets/base",
          "model_name": "LayoutModel",
          "model_module_version": "1.2.0",
          "state": {
            "_model_module": "@jupyter-widgets/base",
            "_model_module_version": "1.2.0",
            "_model_name": "LayoutModel",
            "_view_count": null,
            "_view_module": "@jupyter-widgets/base",
            "_view_module_version": "1.2.0",
            "_view_name": "LayoutView",
            "align_content": null,
            "align_items": null,
            "align_self": null,
            "border": null,
            "bottom": null,
            "display": null,
            "flex": null,
            "flex_flow": null,
            "grid_area": null,
            "grid_auto_columns": null,
            "grid_auto_flow": null,
            "grid_auto_rows": null,
            "grid_column": null,
            "grid_gap": null,
            "grid_row": null,
            "grid_template_areas": null,
            "grid_template_columns": null,
            "grid_template_rows": null,
            "height": null,
            "justify_content": null,
            "justify_items": null,
            "left": null,
            "margin": null,
            "max_height": null,
            "max_width": null,
            "min_height": null,
            "min_width": null,
            "object_fit": null,
            "object_position": null,
            "order": null,
            "overflow": null,
            "overflow_x": null,
            "overflow_y": null,
            "padding": null,
            "right": null,
            "top": null,
            "visibility": null,
            "width": null
          }
        },
        "977612ed37a746e1ae8a88e86d14bc94": {
          "model_module": "@jupyter-widgets/controls",
          "model_name": "DescriptionStyleModel",
          "model_module_version": "1.5.0",
          "state": {
            "_model_module": "@jupyter-widgets/controls",
            "_model_module_version": "1.5.0",
            "_model_name": "DescriptionStyleModel",
            "_view_count": null,
            "_view_module": "@jupyter-widgets/base",
            "_view_module_version": "1.2.0",
            "_view_name": "StyleView",
            "description_width": ""
          }
        },
        "6970d84a9d1f40a0a90e7ad0f931565c": {
          "model_module": "@jupyter-widgets/base",
          "model_name": "LayoutModel",
          "model_module_version": "1.2.0",
          "state": {
            "_model_module": "@jupyter-widgets/base",
            "_model_module_version": "1.2.0",
            "_model_name": "LayoutModel",
            "_view_count": null,
            "_view_module": "@jupyter-widgets/base",
            "_view_module_version": "1.2.0",
            "_view_name": "LayoutView",
            "align_content": null,
            "align_items": null,
            "align_self": null,
            "border": null,
            "bottom": null,
            "display": null,
            "flex": null,
            "flex_flow": null,
            "grid_area": null,
            "grid_auto_columns": null,
            "grid_auto_flow": null,
            "grid_auto_rows": null,
            "grid_column": null,
            "grid_gap": null,
            "grid_row": null,
            "grid_template_areas": null,
            "grid_template_columns": null,
            "grid_template_rows": null,
            "height": null,
            "justify_content": null,
            "justify_items": null,
            "left": null,
            "margin": null,
            "max_height": null,
            "max_width": null,
            "min_height": null,
            "min_width": null,
            "object_fit": null,
            "object_position": null,
            "order": null,
            "overflow": null,
            "overflow_x": null,
            "overflow_y": null,
            "padding": null,
            "right": null,
            "top": null,
            "visibility": null,
            "width": null
          }
        },
        "336554ea55694b53b63c1eb729d67e75": {
          "model_module": "@jupyter-widgets/controls",
          "model_name": "ProgressStyleModel",
          "model_module_version": "1.5.0",
          "state": {
            "_model_module": "@jupyter-widgets/controls",
            "_model_module_version": "1.5.0",
            "_model_name": "ProgressStyleModel",
            "_view_count": null,
            "_view_module": "@jupyter-widgets/base",
            "_view_module_version": "1.2.0",
            "_view_name": "StyleView",
            "bar_color": null,
            "description_width": ""
          }
        },
        "5ca4620f21c04fba9bc43b06adebfa44": {
          "model_module": "@jupyter-widgets/base",
          "model_name": "LayoutModel",
          "model_module_version": "1.2.0",
          "state": {
            "_model_module": "@jupyter-widgets/base",
            "_model_module_version": "1.2.0",
            "_model_name": "LayoutModel",
            "_view_count": null,
            "_view_module": "@jupyter-widgets/base",
            "_view_module_version": "1.2.0",
            "_view_name": "LayoutView",
            "align_content": null,
            "align_items": null,
            "align_self": null,
            "border": null,
            "bottom": null,
            "display": null,
            "flex": null,
            "flex_flow": null,
            "grid_area": null,
            "grid_auto_columns": null,
            "grid_auto_flow": null,
            "grid_auto_rows": null,
            "grid_column": null,
            "grid_gap": null,
            "grid_row": null,
            "grid_template_areas": null,
            "grid_template_columns": null,
            "grid_template_rows": null,
            "height": null,
            "justify_content": null,
            "justify_items": null,
            "left": null,
            "margin": null,
            "max_height": null,
            "max_width": null,
            "min_height": null,
            "min_width": null,
            "object_fit": null,
            "object_position": null,
            "order": null,
            "overflow": null,
            "overflow_x": null,
            "overflow_y": null,
            "padding": null,
            "right": null,
            "top": null,
            "visibility": null,
            "width": null
          }
        },
        "447818f700594e60b55603bb37860026": {
          "model_module": "@jupyter-widgets/controls",
          "model_name": "DescriptionStyleModel",
          "model_module_version": "1.5.0",
          "state": {
            "_model_module": "@jupyter-widgets/controls",
            "_model_module_version": "1.5.0",
            "_model_name": "DescriptionStyleModel",
            "_view_count": null,
            "_view_module": "@jupyter-widgets/base",
            "_view_module_version": "1.2.0",
            "_view_name": "StyleView",
            "description_width": ""
          }
        },
        "3c5b220516e647cea3f20ff061c45d51": {
          "model_module": "@jupyter-widgets/controls",
          "model_name": "HBoxModel",
          "model_module_version": "1.5.0",
          "state": {
            "_dom_classes": [],
            "_model_module": "@jupyter-widgets/controls",
            "_model_module_version": "1.5.0",
            "_model_name": "HBoxModel",
            "_view_count": null,
            "_view_module": "@jupyter-widgets/controls",
            "_view_module_version": "1.5.0",
            "_view_name": "HBoxView",
            "box_style": "",
            "children": [
              "IPY_MODEL_e7cc590d62f14787917cf67c4f4b7963",
              "IPY_MODEL_17ba6e9388d44458a6f34d1b194be631",
              "IPY_MODEL_e397b0a54bbf43e588071dd95341c995"
            ],
            "layout": "IPY_MODEL_c05fb78c90204c67b99a2793c0f6bd45"
          }
        },
        "e7cc590d62f14787917cf67c4f4b7963": {
          "model_module": "@jupyter-widgets/controls",
          "model_name": "HTMLModel",
          "model_module_version": "1.5.0",
          "state": {
            "_dom_classes": [],
            "_model_module": "@jupyter-widgets/controls",
            "_model_module_version": "1.5.0",
            "_model_name": "HTMLModel",
            "_view_count": null,
            "_view_module": "@jupyter-widgets/controls",
            "_view_module_version": "1.5.0",
            "_view_name": "HTMLView",
            "description": "",
            "description_tooltip": null,
            "layout": "IPY_MODEL_e48701fa4300406b85daa86fe7b57ff9",
            "placeholder": "​",
            "style": "IPY_MODEL_5b09f3d487a048db93ec2edbd71fa545",
            "value": "100%"
          }
        },
        "17ba6e9388d44458a6f34d1b194be631": {
          "model_module": "@jupyter-widgets/controls",
          "model_name": "FloatProgressModel",
          "model_module_version": "1.5.0",
          "state": {
            "_dom_classes": [],
            "_model_module": "@jupyter-widgets/controls",
            "_model_module_version": "1.5.0",
            "_model_name": "FloatProgressModel",
            "_view_count": null,
            "_view_module": "@jupyter-widgets/controls",
            "_view_module_version": "1.5.0",
            "_view_name": "ProgressView",
            "bar_style": "success",
            "description": "",
            "description_tooltip": null,
            "layout": "IPY_MODEL_0fdcf5fa6d4e4768b335703e7c761f34",
            "max": 28881,
            "min": 0,
            "orientation": "horizontal",
            "style": "IPY_MODEL_7958c7bea256474fbb77f493c3ce2e62",
            "value": 28881
          }
        },
        "e397b0a54bbf43e588071dd95341c995": {
          "model_module": "@jupyter-widgets/controls",
          "model_name": "HTMLModel",
          "model_module_version": "1.5.0",
          "state": {
            "_dom_classes": [],
            "_model_module": "@jupyter-widgets/controls",
            "_model_module_version": "1.5.0",
            "_model_name": "HTMLModel",
            "_view_count": null,
            "_view_module": "@jupyter-widgets/controls",
            "_view_module_version": "1.5.0",
            "_view_name": "HTMLView",
            "description": "",
            "description_tooltip": null,
            "layout": "IPY_MODEL_f346115fea424267b95364dc4ace3b18",
            "placeholder": "​",
            "style": "IPY_MODEL_0f1cffcb4c1d488ba594882b210fd013",
            "value": " 28881/28881 [00:00&lt;00:00, 1105625.93it/s]"
          }
        },
        "c05fb78c90204c67b99a2793c0f6bd45": {
          "model_module": "@jupyter-widgets/base",
          "model_name": "LayoutModel",
          "model_module_version": "1.2.0",
          "state": {
            "_model_module": "@jupyter-widgets/base",
            "_model_module_version": "1.2.0",
            "_model_name": "LayoutModel",
            "_view_count": null,
            "_view_module": "@jupyter-widgets/base",
            "_view_module_version": "1.2.0",
            "_view_name": "LayoutView",
            "align_content": null,
            "align_items": null,
            "align_self": null,
            "border": null,
            "bottom": null,
            "display": null,
            "flex": null,
            "flex_flow": null,
            "grid_area": null,
            "grid_auto_columns": null,
            "grid_auto_flow": null,
            "grid_auto_rows": null,
            "grid_column": null,
            "grid_gap": null,
            "grid_row": null,
            "grid_template_areas": null,
            "grid_template_columns": null,
            "grid_template_rows": null,
            "height": null,
            "justify_content": null,
            "justify_items": null,
            "left": null,
            "margin": null,
            "max_height": null,
            "max_width": null,
            "min_height": null,
            "min_width": null,
            "object_fit": null,
            "object_position": null,
            "order": null,
            "overflow": null,
            "overflow_x": null,
            "overflow_y": null,
            "padding": null,
            "right": null,
            "top": null,
            "visibility": null,
            "width": null
          }
        },
        "e48701fa4300406b85daa86fe7b57ff9": {
          "model_module": "@jupyter-widgets/base",
          "model_name": "LayoutModel",
          "model_module_version": "1.2.0",
          "state": {
            "_model_module": "@jupyter-widgets/base",
            "_model_module_version": "1.2.0",
            "_model_name": "LayoutModel",
            "_view_count": null,
            "_view_module": "@jupyter-widgets/base",
            "_view_module_version": "1.2.0",
            "_view_name": "LayoutView",
            "align_content": null,
            "align_items": null,
            "align_self": null,
            "border": null,
            "bottom": null,
            "display": null,
            "flex": null,
            "flex_flow": null,
            "grid_area": null,
            "grid_auto_columns": null,
            "grid_auto_flow": null,
            "grid_auto_rows": null,
            "grid_column": null,
            "grid_gap": null,
            "grid_row": null,
            "grid_template_areas": null,
            "grid_template_columns": null,
            "grid_template_rows": null,
            "height": null,
            "justify_content": null,
            "justify_items": null,
            "left": null,
            "margin": null,
            "max_height": null,
            "max_width": null,
            "min_height": null,
            "min_width": null,
            "object_fit": null,
            "object_position": null,
            "order": null,
            "overflow": null,
            "overflow_x": null,
            "overflow_y": null,
            "padding": null,
            "right": null,
            "top": null,
            "visibility": null,
            "width": null
          }
        },
        "5b09f3d487a048db93ec2edbd71fa545": {
          "model_module": "@jupyter-widgets/controls",
          "model_name": "DescriptionStyleModel",
          "model_module_version": "1.5.0",
          "state": {
            "_model_module": "@jupyter-widgets/controls",
            "_model_module_version": "1.5.0",
            "_model_name": "DescriptionStyleModel",
            "_view_count": null,
            "_view_module": "@jupyter-widgets/base",
            "_view_module_version": "1.2.0",
            "_view_name": "StyleView",
            "description_width": ""
          }
        },
        "0fdcf5fa6d4e4768b335703e7c761f34": {
          "model_module": "@jupyter-widgets/base",
          "model_name": "LayoutModel",
          "model_module_version": "1.2.0",
          "state": {
            "_model_module": "@jupyter-widgets/base",
            "_model_module_version": "1.2.0",
            "_model_name": "LayoutModel",
            "_view_count": null,
            "_view_module": "@jupyter-widgets/base",
            "_view_module_version": "1.2.0",
            "_view_name": "LayoutView",
            "align_content": null,
            "align_items": null,
            "align_self": null,
            "border": null,
            "bottom": null,
            "display": null,
            "flex": null,
            "flex_flow": null,
            "grid_area": null,
            "grid_auto_columns": null,
            "grid_auto_flow": null,
            "grid_auto_rows": null,
            "grid_column": null,
            "grid_gap": null,
            "grid_row": null,
            "grid_template_areas": null,
            "grid_template_columns": null,
            "grid_template_rows": null,
            "height": null,
            "justify_content": null,
            "justify_items": null,
            "left": null,
            "margin": null,
            "max_height": null,
            "max_width": null,
            "min_height": null,
            "min_width": null,
            "object_fit": null,
            "object_position": null,
            "order": null,
            "overflow": null,
            "overflow_x": null,
            "overflow_y": null,
            "padding": null,
            "right": null,
            "top": null,
            "visibility": null,
            "width": null
          }
        },
        "7958c7bea256474fbb77f493c3ce2e62": {
          "model_module": "@jupyter-widgets/controls",
          "model_name": "ProgressStyleModel",
          "model_module_version": "1.5.0",
          "state": {
            "_model_module": "@jupyter-widgets/controls",
            "_model_module_version": "1.5.0",
            "_model_name": "ProgressStyleModel",
            "_view_count": null,
            "_view_module": "@jupyter-widgets/base",
            "_view_module_version": "1.2.0",
            "_view_name": "StyleView",
            "bar_color": null,
            "description_width": ""
          }
        },
        "f346115fea424267b95364dc4ace3b18": {
          "model_module": "@jupyter-widgets/base",
          "model_name": "LayoutModel",
          "model_module_version": "1.2.0",
          "state": {
            "_model_module": "@jupyter-widgets/base",
            "_model_module_version": "1.2.0",
            "_model_name": "LayoutModel",
            "_view_count": null,
            "_view_module": "@jupyter-widgets/base",
            "_view_module_version": "1.2.0",
            "_view_name": "LayoutView",
            "align_content": null,
            "align_items": null,
            "align_self": null,
            "border": null,
            "bottom": null,
            "display": null,
            "flex": null,
            "flex_flow": null,
            "grid_area": null,
            "grid_auto_columns": null,
            "grid_auto_flow": null,
            "grid_auto_rows": null,
            "grid_column": null,
            "grid_gap": null,
            "grid_row": null,
            "grid_template_areas": null,
            "grid_template_columns": null,
            "grid_template_rows": null,
            "height": null,
            "justify_content": null,
            "justify_items": null,
            "left": null,
            "margin": null,
            "max_height": null,
            "max_width": null,
            "min_height": null,
            "min_width": null,
            "object_fit": null,
            "object_position": null,
            "order": null,
            "overflow": null,
            "overflow_x": null,
            "overflow_y": null,
            "padding": null,
            "right": null,
            "top": null,
            "visibility": null,
            "width": null
          }
        },
        "0f1cffcb4c1d488ba594882b210fd013": {
          "model_module": "@jupyter-widgets/controls",
          "model_name": "DescriptionStyleModel",
          "model_module_version": "1.5.0",
          "state": {
            "_model_module": "@jupyter-widgets/controls",
            "_model_module_version": "1.5.0",
            "_model_name": "DescriptionStyleModel",
            "_view_count": null,
            "_view_module": "@jupyter-widgets/base",
            "_view_module_version": "1.2.0",
            "_view_name": "StyleView",
            "description_width": ""
          }
        },
        "9b96bf723ee649d392c3b28539d9270c": {
          "model_module": "@jupyter-widgets/controls",
          "model_name": "HBoxModel",
          "model_module_version": "1.5.0",
          "state": {
            "_dom_classes": [],
            "_model_module": "@jupyter-widgets/controls",
            "_model_module_version": "1.5.0",
            "_model_name": "HBoxModel",
            "_view_count": null,
            "_view_module": "@jupyter-widgets/controls",
            "_view_module_version": "1.5.0",
            "_view_name": "HBoxView",
            "box_style": "",
            "children": [
              "IPY_MODEL_43a1cb3c6b2e478c95c0d4acb7d60732",
              "IPY_MODEL_ca2156ced8264f2999360770df385d50",
              "IPY_MODEL_ef1e014aa0b046569612f6e8b1fc6510"
            ],
            "layout": "IPY_MODEL_4898fab4635a4cdab93abf590d708e99"
          }
        },
        "43a1cb3c6b2e478c95c0d4acb7d60732": {
          "model_module": "@jupyter-widgets/controls",
          "model_name": "HTMLModel",
          "model_module_version": "1.5.0",
          "state": {
            "_dom_classes": [],
            "_model_module": "@jupyter-widgets/controls",
            "_model_module_version": "1.5.0",
            "_model_name": "HTMLModel",
            "_view_count": null,
            "_view_module": "@jupyter-widgets/controls",
            "_view_module_version": "1.5.0",
            "_view_name": "HTMLView",
            "description": "",
            "description_tooltip": null,
            "layout": "IPY_MODEL_1834d34a99bd4c2f9a0e3a0299cd2c10",
            "placeholder": "​",
            "style": "IPY_MODEL_44f1489c25f94e87be3b53ffd69e1236",
            "value": "100%"
          }
        },
        "ca2156ced8264f2999360770df385d50": {
          "model_module": "@jupyter-widgets/controls",
          "model_name": "FloatProgressModel",
          "model_module_version": "1.5.0",
          "state": {
            "_dom_classes": [],
            "_model_module": "@jupyter-widgets/controls",
            "_model_module_version": "1.5.0",
            "_model_name": "FloatProgressModel",
            "_view_count": null,
            "_view_module": "@jupyter-widgets/controls",
            "_view_module_version": "1.5.0",
            "_view_name": "ProgressView",
            "bar_style": "success",
            "description": "",
            "description_tooltip": null,
            "layout": "IPY_MODEL_5387aef834614c1a9de00864db2cb423",
            "max": 1648877,
            "min": 0,
            "orientation": "horizontal",
            "style": "IPY_MODEL_cf138c4b36e6435eabd52e849d222c9d",
            "value": 1648877
          }
        },
        "ef1e014aa0b046569612f6e8b1fc6510": {
          "model_module": "@jupyter-widgets/controls",
          "model_name": "HTMLModel",
          "model_module_version": "1.5.0",
          "state": {
            "_dom_classes": [],
            "_model_module": "@jupyter-widgets/controls",
            "_model_module_version": "1.5.0",
            "_model_name": "HTMLModel",
            "_view_count": null,
            "_view_module": "@jupyter-widgets/controls",
            "_view_module_version": "1.5.0",
            "_view_name": "HTMLView",
            "description": "",
            "description_tooltip": null,
            "layout": "IPY_MODEL_d6fc51d8bd564a138fd85d143deff179",
            "placeholder": "​",
            "style": "IPY_MODEL_99c755e90ad84a4e840b917735c7c9e6",
            "value": " 1648877/1648877 [00:00&lt;00:00, 17743018.25it/s]"
          }
        },
        "4898fab4635a4cdab93abf590d708e99": {
          "model_module": "@jupyter-widgets/base",
          "model_name": "LayoutModel",
          "model_module_version": "1.2.0",
          "state": {
            "_model_module": "@jupyter-widgets/base",
            "_model_module_version": "1.2.0",
            "_model_name": "LayoutModel",
            "_view_count": null,
            "_view_module": "@jupyter-widgets/base",
            "_view_module_version": "1.2.0",
            "_view_name": "LayoutView",
            "align_content": null,
            "align_items": null,
            "align_self": null,
            "border": null,
            "bottom": null,
            "display": null,
            "flex": null,
            "flex_flow": null,
            "grid_area": null,
            "grid_auto_columns": null,
            "grid_auto_flow": null,
            "grid_auto_rows": null,
            "grid_column": null,
            "grid_gap": null,
            "grid_row": null,
            "grid_template_areas": null,
            "grid_template_columns": null,
            "grid_template_rows": null,
            "height": null,
            "justify_content": null,
            "justify_items": null,
            "left": null,
            "margin": null,
            "max_height": null,
            "max_width": null,
            "min_height": null,
            "min_width": null,
            "object_fit": null,
            "object_position": null,
            "order": null,
            "overflow": null,
            "overflow_x": null,
            "overflow_y": null,
            "padding": null,
            "right": null,
            "top": null,
            "visibility": null,
            "width": null
          }
        },
        "1834d34a99bd4c2f9a0e3a0299cd2c10": {
          "model_module": "@jupyter-widgets/base",
          "model_name": "LayoutModel",
          "model_module_version": "1.2.0",
          "state": {
            "_model_module": "@jupyter-widgets/base",
            "_model_module_version": "1.2.0",
            "_model_name": "LayoutModel",
            "_view_count": null,
            "_view_module": "@jupyter-widgets/base",
            "_view_module_version": "1.2.0",
            "_view_name": "LayoutView",
            "align_content": null,
            "align_items": null,
            "align_self": null,
            "border": null,
            "bottom": null,
            "display": null,
            "flex": null,
            "flex_flow": null,
            "grid_area": null,
            "grid_auto_columns": null,
            "grid_auto_flow": null,
            "grid_auto_rows": null,
            "grid_column": null,
            "grid_gap": null,
            "grid_row": null,
            "grid_template_areas": null,
            "grid_template_columns": null,
            "grid_template_rows": null,
            "height": null,
            "justify_content": null,
            "justify_items": null,
            "left": null,
            "margin": null,
            "max_height": null,
            "max_width": null,
            "min_height": null,
            "min_width": null,
            "object_fit": null,
            "object_position": null,
            "order": null,
            "overflow": null,
            "overflow_x": null,
            "overflow_y": null,
            "padding": null,
            "right": null,
            "top": null,
            "visibility": null,
            "width": null
          }
        },
        "44f1489c25f94e87be3b53ffd69e1236": {
          "model_module": "@jupyter-widgets/controls",
          "model_name": "DescriptionStyleModel",
          "model_module_version": "1.5.0",
          "state": {
            "_model_module": "@jupyter-widgets/controls",
            "_model_module_version": "1.5.0",
            "_model_name": "DescriptionStyleModel",
            "_view_count": null,
            "_view_module": "@jupyter-widgets/base",
            "_view_module_version": "1.2.0",
            "_view_name": "StyleView",
            "description_width": ""
          }
        },
        "5387aef834614c1a9de00864db2cb423": {
          "model_module": "@jupyter-widgets/base",
          "model_name": "LayoutModel",
          "model_module_version": "1.2.0",
          "state": {
            "_model_module": "@jupyter-widgets/base",
            "_model_module_version": "1.2.0",
            "_model_name": "LayoutModel",
            "_view_count": null,
            "_view_module": "@jupyter-widgets/base",
            "_view_module_version": "1.2.0",
            "_view_name": "LayoutView",
            "align_content": null,
            "align_items": null,
            "align_self": null,
            "border": null,
            "bottom": null,
            "display": null,
            "flex": null,
            "flex_flow": null,
            "grid_area": null,
            "grid_auto_columns": null,
            "grid_auto_flow": null,
            "grid_auto_rows": null,
            "grid_column": null,
            "grid_gap": null,
            "grid_row": null,
            "grid_template_areas": null,
            "grid_template_columns": null,
            "grid_template_rows": null,
            "height": null,
            "justify_content": null,
            "justify_items": null,
            "left": null,
            "margin": null,
            "max_height": null,
            "max_width": null,
            "min_height": null,
            "min_width": null,
            "object_fit": null,
            "object_position": null,
            "order": null,
            "overflow": null,
            "overflow_x": null,
            "overflow_y": null,
            "padding": null,
            "right": null,
            "top": null,
            "visibility": null,
            "width": null
          }
        },
        "cf138c4b36e6435eabd52e849d222c9d": {
          "model_module": "@jupyter-widgets/controls",
          "model_name": "ProgressStyleModel",
          "model_module_version": "1.5.0",
          "state": {
            "_model_module": "@jupyter-widgets/controls",
            "_model_module_version": "1.5.0",
            "_model_name": "ProgressStyleModel",
            "_view_count": null,
            "_view_module": "@jupyter-widgets/base",
            "_view_module_version": "1.2.0",
            "_view_name": "StyleView",
            "bar_color": null,
            "description_width": ""
          }
        },
        "d6fc51d8bd564a138fd85d143deff179": {
          "model_module": "@jupyter-widgets/base",
          "model_name": "LayoutModel",
          "model_module_version": "1.2.0",
          "state": {
            "_model_module": "@jupyter-widgets/base",
            "_model_module_version": "1.2.0",
            "_model_name": "LayoutModel",
            "_view_count": null,
            "_view_module": "@jupyter-widgets/base",
            "_view_module_version": "1.2.0",
            "_view_name": "LayoutView",
            "align_content": null,
            "align_items": null,
            "align_self": null,
            "border": null,
            "bottom": null,
            "display": null,
            "flex": null,
            "flex_flow": null,
            "grid_area": null,
            "grid_auto_columns": null,
            "grid_auto_flow": null,
            "grid_auto_rows": null,
            "grid_column": null,
            "grid_gap": null,
            "grid_row": null,
            "grid_template_areas": null,
            "grid_template_columns": null,
            "grid_template_rows": null,
            "height": null,
            "justify_content": null,
            "justify_items": null,
            "left": null,
            "margin": null,
            "max_height": null,
            "max_width": null,
            "min_height": null,
            "min_width": null,
            "object_fit": null,
            "object_position": null,
            "order": null,
            "overflow": null,
            "overflow_x": null,
            "overflow_y": null,
            "padding": null,
            "right": null,
            "top": null,
            "visibility": null,
            "width": null
          }
        },
        "99c755e90ad84a4e840b917735c7c9e6": {
          "model_module": "@jupyter-widgets/controls",
          "model_name": "DescriptionStyleModel",
          "model_module_version": "1.5.0",
          "state": {
            "_model_module": "@jupyter-widgets/controls",
            "_model_module_version": "1.5.0",
            "_model_name": "DescriptionStyleModel",
            "_view_count": null,
            "_view_module": "@jupyter-widgets/base",
            "_view_module_version": "1.2.0",
            "_view_name": "StyleView",
            "description_width": ""
          }
        },
        "f89bd30deef34f75b16a577fd5c6cc39": {
          "model_module": "@jupyter-widgets/controls",
          "model_name": "HBoxModel",
          "model_module_version": "1.5.0",
          "state": {
            "_dom_classes": [],
            "_model_module": "@jupyter-widgets/controls",
            "_model_module_version": "1.5.0",
            "_model_name": "HBoxModel",
            "_view_count": null,
            "_view_module": "@jupyter-widgets/controls",
            "_view_module_version": "1.5.0",
            "_view_name": "HBoxView",
            "box_style": "",
            "children": [
              "IPY_MODEL_155adc9ce4fc497c964e90e15e2ba1eb",
              "IPY_MODEL_ac14c4b5ece9432984796b52eedc7dcd",
              "IPY_MODEL_d1a2f54ee5b44f5794ba574b03dbcec1"
            ],
            "layout": "IPY_MODEL_3e6b85ba8aa945459b62a0a69079ecb3"
          }
        },
        "155adc9ce4fc497c964e90e15e2ba1eb": {
          "model_module": "@jupyter-widgets/controls",
          "model_name": "HTMLModel",
          "model_module_version": "1.5.0",
          "state": {
            "_dom_classes": [],
            "_model_module": "@jupyter-widgets/controls",
            "_model_module_version": "1.5.0",
            "_model_name": "HTMLModel",
            "_view_count": null,
            "_view_module": "@jupyter-widgets/controls",
            "_view_module_version": "1.5.0",
            "_view_name": "HTMLView",
            "description": "",
            "description_tooltip": null,
            "layout": "IPY_MODEL_11d8fb2c328940e6a6372a263dd76b60",
            "placeholder": "​",
            "style": "IPY_MODEL_3f065ec484534f23b90a806a0ffe028e",
            "value": "100%"
          }
        },
        "ac14c4b5ece9432984796b52eedc7dcd": {
          "model_module": "@jupyter-widgets/controls",
          "model_name": "FloatProgressModel",
          "model_module_version": "1.5.0",
          "state": {
            "_dom_classes": [],
            "_model_module": "@jupyter-widgets/controls",
            "_model_module_version": "1.5.0",
            "_model_name": "FloatProgressModel",
            "_view_count": null,
            "_view_module": "@jupyter-widgets/controls",
            "_view_module_version": "1.5.0",
            "_view_name": "ProgressView",
            "bar_style": "success",
            "description": "",
            "description_tooltip": null,
            "layout": "IPY_MODEL_3c805dbcdae74ccaaf006a4f2834d91a",
            "max": 4542,
            "min": 0,
            "orientation": "horizontal",
            "style": "IPY_MODEL_58055bcbdb2443c68bcd2046ffa4953a",
            "value": 4542
          }
        },
        "d1a2f54ee5b44f5794ba574b03dbcec1": {
          "model_module": "@jupyter-widgets/controls",
          "model_name": "HTMLModel",
          "model_module_version": "1.5.0",
          "state": {
            "_dom_classes": [],
            "_model_module": "@jupyter-widgets/controls",
            "_model_module_version": "1.5.0",
            "_model_name": "HTMLModel",
            "_view_count": null,
            "_view_module": "@jupyter-widgets/controls",
            "_view_module_version": "1.5.0",
            "_view_name": "HTMLView",
            "description": "",
            "description_tooltip": null,
            "layout": "IPY_MODEL_6889de0f91d546baacf26600460347ef",
            "placeholder": "​",
            "style": "IPY_MODEL_6df7a85f1b04481caced268afa066ca5",
            "value": " 4542/4542 [00:00&lt;00:00, 161812.67it/s]"
          }
        },
        "3e6b85ba8aa945459b62a0a69079ecb3": {
          "model_module": "@jupyter-widgets/base",
          "model_name": "LayoutModel",
          "model_module_version": "1.2.0",
          "state": {
            "_model_module": "@jupyter-widgets/base",
            "_model_module_version": "1.2.0",
            "_model_name": "LayoutModel",
            "_view_count": null,
            "_view_module": "@jupyter-widgets/base",
            "_view_module_version": "1.2.0",
            "_view_name": "LayoutView",
            "align_content": null,
            "align_items": null,
            "align_self": null,
            "border": null,
            "bottom": null,
            "display": null,
            "flex": null,
            "flex_flow": null,
            "grid_area": null,
            "grid_auto_columns": null,
            "grid_auto_flow": null,
            "grid_auto_rows": null,
            "grid_column": null,
            "grid_gap": null,
            "grid_row": null,
            "grid_template_areas": null,
            "grid_template_columns": null,
            "grid_template_rows": null,
            "height": null,
            "justify_content": null,
            "justify_items": null,
            "left": null,
            "margin": null,
            "max_height": null,
            "max_width": null,
            "min_height": null,
            "min_width": null,
            "object_fit": null,
            "object_position": null,
            "order": null,
            "overflow": null,
            "overflow_x": null,
            "overflow_y": null,
            "padding": null,
            "right": null,
            "top": null,
            "visibility": null,
            "width": null
          }
        },
        "11d8fb2c328940e6a6372a263dd76b60": {
          "model_module": "@jupyter-widgets/base",
          "model_name": "LayoutModel",
          "model_module_version": "1.2.0",
          "state": {
            "_model_module": "@jupyter-widgets/base",
            "_model_module_version": "1.2.0",
            "_model_name": "LayoutModel",
            "_view_count": null,
            "_view_module": "@jupyter-widgets/base",
            "_view_module_version": "1.2.0",
            "_view_name": "LayoutView",
            "align_content": null,
            "align_items": null,
            "align_self": null,
            "border": null,
            "bottom": null,
            "display": null,
            "flex": null,
            "flex_flow": null,
            "grid_area": null,
            "grid_auto_columns": null,
            "grid_auto_flow": null,
            "grid_auto_rows": null,
            "grid_column": null,
            "grid_gap": null,
            "grid_row": null,
            "grid_template_areas": null,
            "grid_template_columns": null,
            "grid_template_rows": null,
            "height": null,
            "justify_content": null,
            "justify_items": null,
            "left": null,
            "margin": null,
            "max_height": null,
            "max_width": null,
            "min_height": null,
            "min_width": null,
            "object_fit": null,
            "object_position": null,
            "order": null,
            "overflow": null,
            "overflow_x": null,
            "overflow_y": null,
            "padding": null,
            "right": null,
            "top": null,
            "visibility": null,
            "width": null
          }
        },
        "3f065ec484534f23b90a806a0ffe028e": {
          "model_module": "@jupyter-widgets/controls",
          "model_name": "DescriptionStyleModel",
          "model_module_version": "1.5.0",
          "state": {
            "_model_module": "@jupyter-widgets/controls",
            "_model_module_version": "1.5.0",
            "_model_name": "DescriptionStyleModel",
            "_view_count": null,
            "_view_module": "@jupyter-widgets/base",
            "_view_module_version": "1.2.0",
            "_view_name": "StyleView",
            "description_width": ""
          }
        },
        "3c805dbcdae74ccaaf006a4f2834d91a": {
          "model_module": "@jupyter-widgets/base",
          "model_name": "LayoutModel",
          "model_module_version": "1.2.0",
          "state": {
            "_model_module": "@jupyter-widgets/base",
            "_model_module_version": "1.2.0",
            "_model_name": "LayoutModel",
            "_view_count": null,
            "_view_module": "@jupyter-widgets/base",
            "_view_module_version": "1.2.0",
            "_view_name": "LayoutView",
            "align_content": null,
            "align_items": null,
            "align_self": null,
            "border": null,
            "bottom": null,
            "display": null,
            "flex": null,
            "flex_flow": null,
            "grid_area": null,
            "grid_auto_columns": null,
            "grid_auto_flow": null,
            "grid_auto_rows": null,
            "grid_column": null,
            "grid_gap": null,
            "grid_row": null,
            "grid_template_areas": null,
            "grid_template_columns": null,
            "grid_template_rows": null,
            "height": null,
            "justify_content": null,
            "justify_items": null,
            "left": null,
            "margin": null,
            "max_height": null,
            "max_width": null,
            "min_height": null,
            "min_width": null,
            "object_fit": null,
            "object_position": null,
            "order": null,
            "overflow": null,
            "overflow_x": null,
            "overflow_y": null,
            "padding": null,
            "right": null,
            "top": null,
            "visibility": null,
            "width": null
          }
        },
        "58055bcbdb2443c68bcd2046ffa4953a": {
          "model_module": "@jupyter-widgets/controls",
          "model_name": "ProgressStyleModel",
          "model_module_version": "1.5.0",
          "state": {
            "_model_module": "@jupyter-widgets/controls",
            "_model_module_version": "1.5.0",
            "_model_name": "ProgressStyleModel",
            "_view_count": null,
            "_view_module": "@jupyter-widgets/base",
            "_view_module_version": "1.2.0",
            "_view_name": "StyleView",
            "bar_color": null,
            "description_width": ""
          }
        },
        "6889de0f91d546baacf26600460347ef": {
          "model_module": "@jupyter-widgets/base",
          "model_name": "LayoutModel",
          "model_module_version": "1.2.0",
          "state": {
            "_model_module": "@jupyter-widgets/base",
            "_model_module_version": "1.2.0",
            "_model_name": "LayoutModel",
            "_view_count": null,
            "_view_module": "@jupyter-widgets/base",
            "_view_module_version": "1.2.0",
            "_view_name": "LayoutView",
            "align_content": null,
            "align_items": null,
            "align_self": null,
            "border": null,
            "bottom": null,
            "display": null,
            "flex": null,
            "flex_flow": null,
            "grid_area": null,
            "grid_auto_columns": null,
            "grid_auto_flow": null,
            "grid_auto_rows": null,
            "grid_column": null,
            "grid_gap": null,
            "grid_row": null,
            "grid_template_areas": null,
            "grid_template_columns": null,
            "grid_template_rows": null,
            "height": null,
            "justify_content": null,
            "justify_items": null,
            "left": null,
            "margin": null,
            "max_height": null,
            "max_width": null,
            "min_height": null,
            "min_width": null,
            "object_fit": null,
            "object_position": null,
            "order": null,
            "overflow": null,
            "overflow_x": null,
            "overflow_y": null,
            "padding": null,
            "right": null,
            "top": null,
            "visibility": null,
            "width": null
          }
        },
        "6df7a85f1b04481caced268afa066ca5": {
          "model_module": "@jupyter-widgets/controls",
          "model_name": "DescriptionStyleModel",
          "model_module_version": "1.5.0",
          "state": {
            "_model_module": "@jupyter-widgets/controls",
            "_model_module_version": "1.5.0",
            "_model_name": "DescriptionStyleModel",
            "_view_count": null,
            "_view_module": "@jupyter-widgets/base",
            "_view_module_version": "1.2.0",
            "_view_name": "StyleView",
            "description_width": ""
          }
        }
      }
    }
  },
  "nbformat": 4,
  "nbformat_minor": 0
}